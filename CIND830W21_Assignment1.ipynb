{
  "nbformat": 4,
  "nbformat_minor": 0,
  "metadata": {
    "colab": {
      "name": "CIND830W21_Assignment1.ipynb",
      "provenance": [],
      "collapsed_sections": [],
      "include_colab_link": true
    },
    "kernelspec": {
      "display_name": "Python 3.8.5 64-bit",
      "language": "python",
      "name": "python38564bit4963913491384e6e8a6a0ebd4048b706"
    },
    "language_info": {
      "name": "python",
      "version": "3.8.5",
      "mimetype": "text/x-python",
      "codemirror_mode": {
        "name": "ipython",
        "version": 3
      },
      "pygments_lexer": "ipython3",
      "nbconvert_exporter": "python",
      "file_extension": ".py"
    },
    "nteract": {
      "version": "0.27.0"
    },
    "varInspector": {
      "cols": {
        "lenName": 16,
        "lenType": 16,
        "lenVar": 40
      },
      "kernels_config": {
        "python": {
          "delete_cmd_postfix": "",
          "delete_cmd_prefix": "del ",
          "library": "var_list.py",
          "varRefreshCmd": "print(var_dic_list())"
        },
        "r": {
          "delete_cmd_postfix": ") ",
          "delete_cmd_prefix": "rm(",
          "library": "var_list.r",
          "varRefreshCmd": "cat(var_dic_list()) "
        }
      },
      "types_to_exclude": [
        "module",
        "function",
        "builtin_function_or_method",
        "instance",
        "_Feature"
      ],
      "window_display": false
    }
  },
  "cells": [
    {
      "cell_type": "markdown",
      "metadata": {
        "id": "view-in-github",
        "colab_type": "text"
      },
      "source": [
        "<a href=\"https://colab.research.google.com/github/ramelloperalta/hello-world/blob/master/CIND830W21_Assignment1.ipynb\" target=\"_parent\"><img src=\"https://colab.research.google.com/assets/colab-badge.svg\" alt=\"Open In Colab\"/></a>"
      ]
    },
    {
      "cell_type": "markdown",
      "metadata": {
        "collapsed": false,
        "id": "kJ6ssXaGJfGN"
      },
      "source": [
        "## CIND830 - Python Programming for Data Science  \n",
        "### Assignment 1 (10% of the final grade) \n",
        "### Due on February 8, 2021 11:59 PM  "
      ]
    },
    {
      "cell_type": "markdown",
      "metadata": {
        "collapsed": false,
        "id": "UWjXw7DsJfGP"
      },
      "source": [
        "*****\n",
        "This is a Jupyter Notebook document that extends a simple formatting syntax for authoring HTML and PDF.\n",
        "Review [this](https://jupyter-notebook.readthedocs.io/en/stable/notebook.html) website for more details on using Jupyter Notebook.\n",
        "\n",
        "Use the JupyterHub server on the Google Cloud Platform, provided by your designated instructor, for this assignment. \n",
        "Ensure using **Python 3.7.6** release then complete the assignment by inserting your Python code wherever seeing the string \"#INSERT YOUR ANSWER HERE.\"\n",
        "\n",
        "When you click the `File` button, from the top navigation bar, then select `Export Notebook As ...`,\n",
        "a document (PDF or HTML format) will be generated that includes\n",
        " both the assignment content and the output of any embedded Python code chunks.\n",
        "\n",
        "Using [these](https://www.ryerson.ca/courses/students/tutorials/assignments/) guidelines,\n",
        "submit **both** the IPYNB and the exported file (PDF or HTML).\n",
        "Failing to submit both files will be subject to mark deduction."
      ]
    },
    {
      "cell_type": "markdown",
      "metadata": {
        "collapsed": false,
        "id": "RDm-t4u8JfGP"
      },
      "source": [
        "### Question 1 **[60 pts]**:\n",
        "\n",
        "\n",
        "\n",
        "A multi-valued function has been defined as follows\n",
        "\n",
        "$$\n",
        "f(x) = \\left\\{\n",
        "    \\begin{array}\\\\\n",
        "       ({\\frac{x^2}{|x|+2}})^2 & \\mbox{if} \\ x < 5 \\\\\n",
        "        {\\frac{x^2}{|x|+2}} & \\mbox{if} \\ x = 5 \\\\\n",
        "       \\sqrt{\\frac{x^2}{|x|+2} } & \\mbox{if} \\ x > 5 \n",
        "    \\end{array}\n",
        "\\right.\n",
        "$$"
      ]
    },
    {
      "cell_type": "markdown",
      "metadata": {
        "id": "vARdfJN_JfGQ"
      },
      "source": [
        "**a)** **[10 pts]** Write a program to ask the user to enter a floating-point real number, check whether the number is greater, equal or less than 5, then print the output according to the definition of the multi-valued function.\n",
        "\n",
        "For example, if the user enters `x = -57.8`, then the output should be:<br>\n",
        "`The value of f(x) is 3121.1093571660267`\n",
        "\n",
        "Hint: Use the `math` module as it provides access to some of the essential mathematical functions."
      ]
    },
    {
      "cell_type": "code",
      "metadata": {
        "colab": {
          "base_uri": "https://localhost:8080/",
          "height": 129
        },
        "collapsed": true,
        "id": "CldaDRWdJfGQ",
        "outputId": "e7bd3672-35cb-480f-b9be-d2a2c6e8749c"
      },
      "source": [
        "def mv(x):\r\n",
        "  z = 0\r\n",
        "  if x < 5:\r\n",
        "    z = ((x**2/(abs(x)+2)**2)\r\n",
        "  elif x > 5:\r\n",
        "    z = x**2/(abs(x)+2\r\n",
        "  else:\r\n",
        "    z = (x**2/(abs(x)+2)**1/2\r\n",
        "  print(\"The value of f(x) is \" + str(z))\r\n"
      ],
      "execution_count": 1,
      "outputs": [
        {
          "output_type": "error",
          "ename": "SyntaxError",
          "evalue": "ignored",
          "traceback": [
            "\u001b[0;36m  File \u001b[0;32m\"<ipython-input-1-a04c0a3871c5>\"\u001b[0;36m, line \u001b[0;32m5\u001b[0m\n\u001b[0;31m    elif x > 5:\u001b[0m\n\u001b[0m       ^\u001b[0m\n\u001b[0;31mSyntaxError\u001b[0m\u001b[0;31m:\u001b[0m invalid syntax\n"
          ]
        }
      ]
    },
    {
      "cell_type": "code",
      "metadata": {
        "colab": {
          "base_uri": "https://localhost:8080/",
          "height": 163
        },
        "id": "gdIZs8uQjuTr",
        "outputId": "ab1b4c46-e5b1-4d51-bc8b-54d969bf592d"
      },
      "source": [
        "python --version"
      ],
      "execution_count": 2,
      "outputs": [
        {
          "output_type": "error",
          "ename": "NameError",
          "evalue": "ignored",
          "traceback": [
            "\u001b[0;31m---------------------------------------------------------------------------\u001b[0m",
            "\u001b[0;31mNameError\u001b[0m                                 Traceback (most recent call last)",
            "\u001b[0;32m<ipython-input-2-a4637bbefc43>\u001b[0m in \u001b[0;36m<module>\u001b[0;34m()\u001b[0m\n\u001b[0;32m----> 1\u001b[0;31m \u001b[0mpython\u001b[0m \u001b[0;34m-\u001b[0m\u001b[0;34m-\u001b[0m\u001b[0mversion\u001b[0m\u001b[0;34m\u001b[0m\u001b[0;34m\u001b[0m\u001b[0m\n\u001b[0m",
            "\u001b[0;31mNameError\u001b[0m: name 'python' is not defined"
          ]
        }
      ]
    },
    {
      "cell_type": "code",
      "metadata": {
        "id": "Oq1l_fhJXgi7"
      },
      "source": [
        "x = input(\"Enter a floating-point real number: \")\r\n",
        "mv(x)"
      ],
      "execution_count": null,
      "outputs": []
    },
    {
      "cell_type": "markdown",
      "metadata": {
        "id": "ZRoY5MRdJfGQ"
      },
      "source": [
        "**b)**  **[10 pts]** Round the output of Q1.a to the nearest ineteger, convert that integer to a list of digits, then print the result.  \n",
        "\n",
        "For example, if the user enters `x = -57.8`, then the output should be: <br>\n",
        "`The value of f(x) is  3121.1093571660267`<br>\n",
        "`The list of digits is  [3, 1, 2, 1] `"
      ]
    },
    {
      "cell_type": "code",
      "metadata": {
        "collapsed": true,
        "id": "b725VzBSJfGR"
      },
      "source": [
        "#INSERT YOUR ANSWER HERE."
      ],
      "execution_count": null,
      "outputs": []
    },
    {
      "cell_type": "markdown",
      "metadata": {
        "id": "__ArmJayJfGR"
      },
      "source": [
        "**c)**  **[10 pts]** Find and print the `Median`, `Average` and `Mode` of the generated list in Q1.b.  For example, having `list = [6, 7, 7, 4]`, the result should be `Median = 6.5; Average = 6; Mode = 7`.  Ensure notifying the user if there is no unique mode found, as the `Mode` in this exercise returns only the single most common data item in the list.\n",
        "\n",
        "For example, if the user enters `x = -57.8`, then the output should be: <br>\n",
        "`The value of f(x) is  3121.1093571660267`<br>\n",
        "`The list of digits is  [3, 1, 2, 1]` <br>\n",
        "`Median is 1.5 ; Average is 1.75 ; Mode =  1`\n",
        "\n",
        "However, if the user enters `x = -57.2`, then the output should be: <br>\n",
        "`The value of f(x) is  3054.5040248356463` <br>\n",
        "`The list of digits is  [3, 0, 5, 4]` <br>\n",
        "`Median is 3.5 ; Average is 3 ; No unique mode found`\n",
        "\n",
        "Hint: Use the `statistics` module as it provides functions to calculate mathematical statistics of numeric data."
      ]
    },
    {
      "cell_type": "code",
      "metadata": {
        "collapsed": true,
        "id": "UaxzqgFIJfGS"
      },
      "source": [
        "#INSERT YOUR ANSWER HERE."
      ],
      "execution_count": null,
      "outputs": []
    },
    {
      "cell_type": "markdown",
      "metadata": {
        "id": "LswUhIjdJfGS"
      },
      "source": [
        "**d)**  **[10 pts]** Find and print the sum of squares of all the numbers of the list generated in Q1.b.  \n",
        "\n",
        "For example, if the user enters `x = -57.8`, then the output should be: <br>\n",
        "`The value of f(x) is  3121.1093571660267`<br>\n",
        "`The list of digits is  [3, 1, 2, 1]` <br>\n",
        "`The sum of squares is 15`  "
      ]
    },
    {
      "cell_type": "code",
      "metadata": {
        "collapsed": true,
        "id": "ICOioDlKJfGS"
      },
      "source": [
        "#INSERT YOUR ANSWER HERE."
      ],
      "execution_count": null,
      "outputs": []
    },
    {
      "cell_type": "markdown",
      "metadata": {
        "id": "I-eeT2BtJfGT"
      },
      "source": [
        "**e)**  **[10 pts]** Find and print the least common multiple of the numbers in the list generated in Q1.b.  \n",
        "\n",
        "For example, if the user enters `x = -57.8`, then the output should be: <br>\n",
        "`The value of f(x) is  3121.1093571660267`<br>\n",
        "`The list of digits is  [3, 1, 2, 1]` <br>\n",
        "`The least common multiple is 6`"
      ]
    },
    {
      "cell_type": "code",
      "metadata": {
        "collapsed": true,
        "id": "gm0k-xWbJfGT"
      },
      "source": [
        "#INSERT YOUR ANSWER HERE."
      ],
      "execution_count": null,
      "outputs": []
    },
    {
      "cell_type": "markdown",
      "metadata": {
        "id": "WQP1V7zOJfGT"
      },
      "source": [
        "**f)**  **[10 pts]** Find and print the binary rpresentation of the numbers in the list generated in Q1.b.  \n",
        "\n",
        "For example, if the user enters `x = -57.8`, then the output should be: <br>\n",
        "`The value of f(x) is  3121.1093571660267`<br>\n",
        "`The list of digits is  [3, 1, 2, 1]` <br>\n",
        "`The binary representation is ['11', '1', '10', '1']` "
      ]
    },
    {
      "cell_type": "code",
      "metadata": {
        "id": "2GqP_jsyJfGU"
      },
      "source": [
        "#INSERT YOUR ANSWER HERE."
      ],
      "execution_count": null,
      "outputs": []
    },
    {
      "cell_type": "markdown",
      "metadata": {
        "collapsed": false,
        "id": "pHcWCZ8mJfGU"
      },
      "source": [
        "*****"
      ]
    },
    {
      "cell_type": "markdown",
      "metadata": {
        "collapsed": false,
        "id": "O3jPbo4vAvPc"
      },
      "source": [
        "### Question 2  **[40 pts]**:\n",
        "\n",
        "Write a program that accepts the coefficients of the folllowing two lines as inputs\n",
        "\n",
        "Line1: $a_1x+b_1y + c_1 = 0$\n",
        "\n",
        "Line2: $a_2x+b_2y + c_2 = 0$\n",
        "\n",
        "Then checks whether the two lines are parallel, intersecting or overlapping according to the conditions listed below."
      ]
    },
    {
      "cell_type": "markdown",
      "metadata": {
        "id": "h_3gNcgeJfGU"
      },
      "source": [
        "**a)**  **[10 pts]** Intersecting lines: If $\\frac{a_1}{a_2} \\ne \\frac{b_1}{b_2}$"
      ]
    },
    {
      "cell_type": "code",
      "metadata": {
        "id": "L1uEFS0GAvPg"
      },
      "source": [
        "#INSERT YOUR ANSWER HERE."
      ],
      "execution_count": null,
      "outputs": []
    },
    {
      "cell_type": "markdown",
      "metadata": {
        "collapsed": false,
        "id": "b5J7kRLZAvPe"
      },
      "source": [
        "**b)**   **[10 pts]** Parallel lines: If the lines are not intersecting and $\\frac{a_1}{a_2} = \\frac{b_1}{b_2} \\ne \\frac{c_1}{c_2}$"
      ]
    },
    {
      "cell_type": "code",
      "metadata": {
        "id": "bHHNxP0IAvPe"
      },
      "source": [
        "#INSERT YOUR ANSWER HERE."
      ],
      "execution_count": null,
      "outputs": []
    },
    {
      "cell_type": "markdown",
      "metadata": {
        "id": "6q5tUb98JfGV"
      },
      "source": [
        "**c)**   **[10 pts]** Overlapping lines: If the lines are not intersecting and $\\frac{a_1}{a_2} = \\frac{b_1}{b_2} = \\frac{c_1}{c_2}$"
      ]
    },
    {
      "cell_type": "code",
      "metadata": {
        "id": "PvQTbdc8AvPi"
      },
      "source": [
        "#INSERT YOUR ANSWER HERE."
      ],
      "execution_count": null,
      "outputs": []
    },
    {
      "cell_type": "markdown",
      "metadata": {
        "collapsed": false,
        "id": "l9l0sjUoAvPk"
      },
      "source": [
        "**d)**   **[10 pts]** Plot the two lines graphically using the `matplotlib` and `numpy` libraries or any other suitable libraries. "
      ]
    },
    {
      "cell_type": "code",
      "metadata": {
        "id": "cDqwtAjhAvPk"
      },
      "source": [
        "#INSERT YOUR ANSWER HERE."
      ],
      "execution_count": null,
      "outputs": []
    },
    {
      "cell_type": "markdown",
      "metadata": {
        "id": "1pXjKc23jXTj"
      },
      "source": [
        "*****"
      ]
    },
    {
      "cell_type": "markdown",
      "metadata": {
        "id": "liJoAmA1LGOz"
      },
      "source": [
        "### Question 3  **[30 pts]**:\r\n",
        "Write a code for a Number Guessing Game. \r\n",
        "The code assigns a random integer number from a given interval to a varible, then asks the user to make a guess to find that number. \r\n",
        "\r\n",
        "Do not forget to check the validity of the selected number:\r\n",
        "- Is it an integer?\r\n",
        "- Is it an integer that lies in the given range?"
      ]
    },
    {
      "cell_type": "markdown",
      "metadata": {
        "id": "13g6-UkaB2bW"
      },
      "source": [
        "**a)**  **[10 pts]** Follow these steps to implement a simple version of the game:\r\n",
        "- The code assigns a random integer number between 0 and 100 to a variable.\r\n",
        "- The code gives the user only one chance to guess that number. \r\n",
        "- The output of the code should be either 'correct' or 'wrong'.\r\n",
        "\r\n",
        "Hint:  Use the `random` module to generate a pseudo-random number."
      ]
    },
    {
      "cell_type": "code",
      "metadata": {
        "id": "pgjCsUosSprl"
      },
      "source": [
        "#INSERT YOUR ANSWER HERE.\n",
        "        "
      ],
      "execution_count": null,
      "outputs": []
    },
    {
      "cell_type": "markdown",
      "metadata": {
        "id": "QLa2BEzGBzAc"
      },
      "source": [
        "**b)**  **[10 pts]** Since it is difficult to guess a number in one try, let us give chances and clues. \r\n",
        "\r\n",
        "With unlimited trials and a random integer number in the inclusive range from 0 to 100, the code will compare the first guess with the random number and tell the user if the random number is lower or higher than the user's guess, and so on untill the user correctly guesses the random integer number. "
      ]
    },
    {
      "cell_type": "code",
      "metadata": {
        "id": "DhhjKEO9_TG7"
      },
      "source": [
        "#INSERT YOUR ANSWER HERE."
      ],
      "execution_count": null,
      "outputs": []
    },
    {
      "cell_type": "markdown",
      "metadata": {
        "id": "bvWLIEBTFNE1"
      },
      "source": [
        "**c)**  **[10 pts]** Let us develop a better version of the program by limiting the number of chances for guessing the random number based on the interval's boundaries.  \r\n",
        "\r\n",
        " \r\n",
        "Start with asking the user to enter two numbers, being the lower and upper bounds of the interval from which the random number will be selected. After the application chooses the random number based on the entered boundaries, find and print the number of attempts given to the user by computing the square root of the difference between the lower and upper bounds.\r\n",
        "\r\n",
        "Notably, the lower-bound value must be at least 1, and the upper-bound value must be higher than the lower-bound one.\r\n"
      ]
    },
    {
      "cell_type": "code",
      "metadata": {
        "id": "MexIqFs8EH63"
      },
      "source": [
        "#INSERT YOUR ANSWER HERE."
      ],
      "execution_count": null,
      "outputs": []
    },
    {
      "cell_type": "markdown",
      "metadata": {
        "id": "E7H-NKYDjaiE"
      },
      "source": [
        "*****"
      ]
    },
    {
      "cell_type": "markdown",
      "metadata": {
        "id": "2XrFEyymLKnR"
      },
      "source": [
        "### Question 4  **[30 pts]**:\r\n",
        "\r\n",
        "Write a code for The Hangman Game. In this game, the user only enters the number of letters existing in that word, and the computer tries to guess them based on a fixed number of attempts.  The game ends if the computer correctly guessed all the letters in order or used all of the given attempts."
      ]
    },
    {
      "cell_type": "code",
      "metadata": {
        "id": "Ocvn4QXHDgId"
      },
      "source": [
        "#INSERT YOUR ANSWER HERE."
      ],
      "execution_count": null,
      "outputs": []
    },
    {
      "cell_type": "markdown",
      "metadata": {
        "collapsed": false,
        "id": "7vRukEN2JfGX"
      },
      "source": [
        "#### This is the end of assignment 1"
      ]
    }
  ]
}